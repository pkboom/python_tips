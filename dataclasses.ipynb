{
 "cells": [
  {
   "cell_type": "code",
   "execution_count": 24,
   "metadata": {},
   "outputs": [],
   "source": [
    "from dataclasses import dataclass\n",
    "\n",
    "@dataclass\n",
    "class DataClassCard:\n",
    "  rank: str\n",
    "  suit: str"
   ]
  },
  {
   "cell_type": "code",
   "execution_count": 25,
   "metadata": {},
   "outputs": [
    {
     "data": {
      "text/plain": [
       "(DataClassCard(rank='Q', suit='Hearts'), 'Q', 'Hearts')"
      ]
     },
     "execution_count": 25,
     "metadata": {},
     "output_type": "execute_result"
    }
   ],
   "source": [
    "queen_of_hearts = DataClassCard('Q', 'Hearts')\n",
    "queen_of_hearts, queen_of_hearts.rank, queen_of_hearts.suit"
   ]
  },
  {
   "cell_type": "code",
   "execution_count": 26,
   "metadata": {},
   "outputs": [],
   "source": [
    "class RegularCard:\n",
    "  def __init__(self, rank, suit):\n",
    "    self.rank = rank\n",
    "    self.suit = suit"
   ]
  },
  {
   "cell_type": "code",
   "execution_count": 27,
   "metadata": {},
   "outputs": [
    {
     "data": {
      "text/plain": [
       "(<__main__.RegularCard at 0x107c64310>, 'Q', 'Hearts')"
      ]
     },
     "execution_count": 27,
     "metadata": {},
     "output_type": "execute_result"
    }
   ],
   "source": [
    "queen_of_hearts = RegularCard('Q', 'Hearts')\n",
    "queen_of_hearts, queen_of_hearts.rank, queen_of_hearts.suit\n"
   ]
  },
  {
   "cell_type": "code",
   "execution_count": 28,
   "metadata": {},
   "outputs": [
    {
     "data": {
      "text/plain": [
       "(('Q', 'Hearts'), {'rank': 'Q', 'suit': 'Hearts'})"
      ]
     },
     "execution_count": 28,
     "metadata": {},
     "output_type": "execute_result"
    }
   ],
   "source": [
    "queen_of_hearts_tuple = ('Q', 'Hearts')\n",
    "queen_of_hearts_dict = {'rank': 'Q', 'suit': 'Hearts'}\n",
    "queen_of_hearts_tuple, queen_of_hearts_dict"
   ]
  },
  {
   "cell_type": "code",
   "execution_count": 29,
   "metadata": {},
   "outputs": [
    {
     "data": {
      "text/plain": [
       "(dict_keys(['rank', 'suit']),\n",
       " dict_items([('rank', 'Q'), ('suit', 'Hearts')]),\n",
       " dict_values(['Q', 'Hearts']))"
      ]
     },
     "execution_count": 29,
     "metadata": {},
     "output_type": "execute_result"
    }
   ],
   "source": [
    "queen_of_hearts_dict.keys(), queen_of_hearts_dict.items(), queen_of_hearts_dict.values()"
   ]
  },
  {
   "cell_type": "code",
   "execution_count": 30,
   "metadata": {},
   "outputs": [
    {
     "data": {
      "text/plain": [
       "('Q', 'Hearts')"
      ]
     },
     "execution_count": 30,
     "metadata": {},
     "output_type": "execute_result"
    }
   ],
   "source": [
    "queen_of_hearts_tuple[0], queen_of_hearts_tuple[1]"
   ]
  },
  {
   "cell_type": "code",
   "execution_count": 31,
   "metadata": {},
   "outputs": [
    {
     "data": {
      "text/plain": [
       "(Card(rank='Q', suit='Hearts'), 'Q', 'Hearts')"
      ]
     },
     "execution_count": 31,
     "metadata": {},
     "output_type": "execute_result"
    }
   ],
   "source": [
    "from collections import namedtuple\n",
    "\n",
    "Card = namedtuple('Card', ['rank', 'suit'])\n",
    "queen_of_hearts = Card('Q', 'Hearts') \n",
    "queen_of_hearts, queen_of_hearts.rank, queen_of_hearts.suit"
   ]
  },
  {
   "cell_type": "code",
   "execution_count": 32,
   "metadata": {},
   "outputs": [
    {
     "data": {
      "text/plain": [
       "True"
      ]
     },
     "execution_count": 32,
     "metadata": {},
     "output_type": "execute_result"
    }
   ],
   "source": [
    "queen_of_hearts == ('Q', 'Hearts')"
   ]
  },
  {
   "cell_type": "code",
   "execution_count": 33,
   "metadata": {},
   "outputs": [
    {
     "name": "stdout",
     "output_type": "stream",
     "text": [
      "Position(name='Oslo', lon=10.8, lat=59.9) Oslo 10.8 59.9\n",
      "Oslo is at 59.9°N, 10.8°E\n"
     ]
    }
   ],
   "source": [
    "from dataclasses import dataclass\n",
    "\n",
    "@dataclass\n",
    "class Position:\n",
    "  name: str\n",
    "  lon: float\n",
    "  lat: float\n",
    "\n",
    "pos = Position('Oslo', 10.8, 59.9)\n",
    "print(pos, pos.name, pos.lon, pos.lat)\n",
    "print(f'{pos.name} is at {pos.lat}°N, {pos.lon}°E')"
   ]
  },
  {
   "cell_type": "code",
   "execution_count": 34,
   "metadata": {},
   "outputs": [
    {
     "name": "stdout",
     "output_type": "stream",
     "text": [
      "Position(name='Oslo', lon=10.8, lat=59.9) Oslo 10.8 59.9\n",
      "Oslo is at 59.9°N, 10.8°E\n"
     ]
    }
   ],
   "source": [
    "from dataclasses import make_dataclass\n",
    "\n",
    "Position = make_dataclass('Position', ['name', 'lon', 'lat'])\n",
    "\n",
    "pos = Position('Oslo', 10.8, 59.9)\n",
    "print(pos, pos.name, pos.lon, pos.lat)\n",
    "print(f'{pos.name} is at {pos.lat}°N, {pos.lon}°E')"
   ]
  },
  {
   "cell_type": "code",
   "execution_count": 35,
   "metadata": {},
   "outputs": [
    {
     "name": "stdout",
     "output_type": "stream",
     "text": [
      "Position(name='Null Island', lon=0.0, lat=0.0)\n",
      "Position(name='Greenwich', lon=0.0, lat=51.8)\n",
      "Position(name='Vancouver', lon=-123.1, lat=49.3)\n"
     ]
    }
   ],
   "source": [
    "from dataclasses import dataclass\n",
    "\n",
    "@dataclass\n",
    "class Position:\n",
    "  name: str\n",
    "  lon: float = 0.0\n",
    "  lat: float = 0.0\n",
    "\n",
    "print(Position('Null Island'))\n",
    "print(Position('Greenwich', 0.0, 51.8))\n",
    "print(Position('Vancouver', -123.1, 49.3))\n"
   ]
  },
  {
   "cell_type": "code",
   "execution_count": 36,
   "metadata": {},
   "outputs": [],
   "source": [
    "from dataclasses import dataclass\n",
    "from math import asin, cos, radians, sin, sqrt\n",
    "\n",
    "@dataclass\n",
    "class Position:\n",
    "  name: str\n",
    "  lon: float = 0.0\n",
    "  lat: float = 0.0\n",
    "\n",
    "  def distance_to(self, other):\n",
    "    r = 6371  # Earth radius in kilometers\n",
    "\n",
    "    lat1, lon1, lat2, lon2 = map(radians, [self.lat, self.lon, other.lat, other.lon])\n",
    "\n",
    "    h = (sin((lat2 - lat1) / 2) ** 2 + cos(lat1) * cos(lat2) * sin((lon2 - lon1) / 2) ** 2)\n",
    "    \n",
    "    return 2 * r * asin(sqrt(h))"
   ]
  },
  {
   "cell_type": "code",
   "execution_count": 37,
   "metadata": {},
   "outputs": [
    {
     "name": "stdout",
     "output_type": "stream",
     "text": [
      "Deck(cards=[PlayingCard(rank='Q', suit='Hearts'), PlayingCard(rank='J', suit='Diamonds')])\n"
     ]
    }
   ],
   "source": [
    "from dataclasses import dataclass\n",
    "from typing import List\n",
    "\n",
    "@dataclass\n",
    "class PlayingCard:\n",
    "  rank: str\n",
    "  suit: str\n",
    "\n",
    "@dataclass\n",
    "class Deck:\n",
    "  cards: List[PlayingCard]\n",
    "\n",
    "deck = Deck([PlayingCard('Q', 'Hearts'), PlayingCard('J', 'Diamonds')])\n",
    "print(deck)\n"
   ]
  },
  {
   "cell_type": "code",
   "execution_count": 38,
   "metadata": {},
   "outputs": [
    {
     "data": {
      "text/plain": [
       "['a', 'b', 'c', 'd', 'e', 'f', 'g', 'h', 'i']"
      ]
     },
     "execution_count": 38,
     "metadata": {},
     "output_type": "execute_result"
    }
   ],
   "source": [
    "my_list = [_ for _ in 'abcdefghi']\n",
    "my_list"
   ]
  },
  {
   "cell_type": "code",
   "execution_count": 39,
   "metadata": {},
   "outputs": [
    {
     "data": {
      "text/plain": [
       "['a', 'b', 'cdefghi']"
      ]
     },
     "execution_count": 39,
     "metadata": {},
     "output_type": "execute_result"
    }
   ],
   "source": [
    "my_list = 'a b cdefghi'.split()\n",
    "my_list"
   ]
  },
  {
   "cell_type": "code",
   "execution_count": 40,
   "metadata": {},
   "outputs": [],
   "source": [
    "RANKS = '2 3 4 5 6 7 8 9 10 J Q K A'.split()\n",
    "SUITS = '♣ ♢ ♡ ♠'.split()\n",
    "\n",
    "def make_french_deck():\n",
    "  return [PlayingCard(r, s) for s in SUITS for r in RANKS]"
   ]
  },
  {
   "cell_type": "code",
   "execution_count": 41,
   "metadata": {},
   "outputs": [
    {
     "data": {
      "text/plain": [
       "[PlayingCard(rank='2', suit='♣'),\n",
       " PlayingCard(rank='3', suit='♣'),\n",
       " PlayingCard(rank='4', suit='♣'),\n",
       " PlayingCard(rank='5', suit='♣'),\n",
       " PlayingCard(rank='6', suit='♣'),\n",
       " PlayingCard(rank='7', suit='♣'),\n",
       " PlayingCard(rank='8', suit='♣'),\n",
       " PlayingCard(rank='9', suit='♣'),\n",
       " PlayingCard(rank='10', suit='♣'),\n",
       " PlayingCard(rank='J', suit='♣'),\n",
       " PlayingCard(rank='Q', suit='♣'),\n",
       " PlayingCard(rank='K', suit='♣'),\n",
       " PlayingCard(rank='A', suit='♣'),\n",
       " PlayingCard(rank='2', suit='♢'),\n",
       " PlayingCard(rank='3', suit='♢'),\n",
       " PlayingCard(rank='4', suit='♢'),\n",
       " PlayingCard(rank='5', suit='♢'),\n",
       " PlayingCard(rank='6', suit='♢'),\n",
       " PlayingCard(rank='7', suit='♢'),\n",
       " PlayingCard(rank='8', suit='♢'),\n",
       " PlayingCard(rank='9', suit='♢'),\n",
       " PlayingCard(rank='10', suit='♢'),\n",
       " PlayingCard(rank='J', suit='♢'),\n",
       " PlayingCard(rank='Q', suit='♢'),\n",
       " PlayingCard(rank='K', suit='♢'),\n",
       " PlayingCard(rank='A', suit='♢'),\n",
       " PlayingCard(rank='2', suit='♡'),\n",
       " PlayingCard(rank='3', suit='♡'),\n",
       " PlayingCard(rank='4', suit='♡'),\n",
       " PlayingCard(rank='5', suit='♡'),\n",
       " PlayingCard(rank='6', suit='♡'),\n",
       " PlayingCard(rank='7', suit='♡'),\n",
       " PlayingCard(rank='8', suit='♡'),\n",
       " PlayingCard(rank='9', suit='♡'),\n",
       " PlayingCard(rank='10', suit='♡'),\n",
       " PlayingCard(rank='J', suit='♡'),\n",
       " PlayingCard(rank='Q', suit='♡'),\n",
       " PlayingCard(rank='K', suit='♡'),\n",
       " PlayingCard(rank='A', suit='♡'),\n",
       " PlayingCard(rank='2', suit='♠'),\n",
       " PlayingCard(rank='3', suit='♠'),\n",
       " PlayingCard(rank='4', suit='♠'),\n",
       " PlayingCard(rank='5', suit='♠'),\n",
       " PlayingCard(rank='6', suit='♠'),\n",
       " PlayingCard(rank='7', suit='♠'),\n",
       " PlayingCard(rank='8', suit='♠'),\n",
       " PlayingCard(rank='9', suit='♠'),\n",
       " PlayingCard(rank='10', suit='♠'),\n",
       " PlayingCard(rank='J', suit='♠'),\n",
       " PlayingCard(rank='Q', suit='♠'),\n",
       " PlayingCard(rank='K', suit='♠'),\n",
       " PlayingCard(rank='A', suit='♠')]"
      ]
     },
     "execution_count": 41,
     "metadata": {},
     "output_type": "execute_result"
    }
   ],
   "source": [
    "make_french_deck()"
   ]
  },
  {
   "cell_type": "code",
   "execution_count": 42,
   "metadata": {},
   "outputs": [
    {
     "name": "stdout",
     "output_type": "stream",
     "text": [
      "[12, 13]\n",
      "[33, 42]\n"
     ]
    }
   ],
   "source": [
    "def append_to(element, to=[]):\n",
    "    to.append(element)\n",
    "    return to\n",
    "\n",
    "my_list = append_to(12)\n",
    "my_list = append_to(13)\n",
    "print(my_list)\n",
    "\n",
    "my_other_list = append_to(42, [33])\n",
    "print(my_other_list)\n"
   ]
  },
  {
   "cell_type": "code",
   "execution_count": 43,
   "metadata": {},
   "outputs": [],
   "source": [
    "from dataclasses import dataclass, field\n",
    "from typing import List\n",
    "\n",
    "@dataclass\n",
    "class Deck:\n",
    "  cards: List[PlayingCard] = field(default_factory=make_french_deck)\n"
   ]
  },
  {
   "cell_type": "code",
   "execution_count": 44,
   "metadata": {},
   "outputs": [
    {
     "data": {
      "text/plain": [
       "Deck(cards=[PlayingCard(rank='2', suit='♣'), PlayingCard(rank='3', suit='♣'), PlayingCard(rank='4', suit='♣'), PlayingCard(rank='5', suit='♣'), PlayingCard(rank='6', suit='♣'), PlayingCard(rank='7', suit='♣'), PlayingCard(rank='8', suit='♣'), PlayingCard(rank='9', suit='♣'), PlayingCard(rank='10', suit='♣'), PlayingCard(rank='J', suit='♣'), PlayingCard(rank='Q', suit='♣'), PlayingCard(rank='K', suit='♣'), PlayingCard(rank='A', suit='♣'), PlayingCard(rank='2', suit='♢'), PlayingCard(rank='3', suit='♢'), PlayingCard(rank='4', suit='♢'), PlayingCard(rank='5', suit='♢'), PlayingCard(rank='6', suit='♢'), PlayingCard(rank='7', suit='♢'), PlayingCard(rank='8', suit='♢'), PlayingCard(rank='9', suit='♢'), PlayingCard(rank='10', suit='♢'), PlayingCard(rank='J', suit='♢'), PlayingCard(rank='Q', suit='♢'), PlayingCard(rank='K', suit='♢'), PlayingCard(rank='A', suit='♢'), PlayingCard(rank='2', suit='♡'), PlayingCard(rank='3', suit='♡'), PlayingCard(rank='4', suit='♡'), PlayingCard(rank='5', suit='♡'), PlayingCard(rank='6', suit='♡'), PlayingCard(rank='7', suit='♡'), PlayingCard(rank='8', suit='♡'), PlayingCard(rank='9', suit='♡'), PlayingCard(rank='10', suit='♡'), PlayingCard(rank='J', suit='♡'), PlayingCard(rank='Q', suit='♡'), PlayingCard(rank='K', suit='♡'), PlayingCard(rank='A', suit='♡'), PlayingCard(rank='2', suit='♠'), PlayingCard(rank='3', suit='♠'), PlayingCard(rank='4', suit='♠'), PlayingCard(rank='5', suit='♠'), PlayingCard(rank='6', suit='♠'), PlayingCard(rank='7', suit='♠'), PlayingCard(rank='8', suit='♠'), PlayingCard(rank='9', suit='♠'), PlayingCard(rank='10', suit='♠'), PlayingCard(rank='J', suit='♠'), PlayingCard(rank='Q', suit='♠'), PlayingCard(rank='K', suit='♠'), PlayingCard(rank='A', suit='♠')])"
      ]
     },
     "execution_count": 44,
     "metadata": {},
     "output_type": "execute_result"
    }
   ],
   "source": [
    "Deck()"
   ]
  },
  {
   "cell_type": "code",
   "execution_count": 45,
   "metadata": {},
   "outputs": [],
   "source": [
    "from dataclasses import dataclass, field, fields\n",
    "\n",
    "@dataclass(frozen=True)\n",
    "class Position:\n",
    "    name: str\n",
    "    lon: float = 0.\n",
    "    lat: float = 0.\n",
    "    \n",
    "pos = Position('Oslo', 10.8, 59.9)\n",
    "# pos.name = 'Stockholm' -> TypeError: cannot assign to field 'name'"
   ]
  },
  {
   "cell_type": "code",
   "execution_count": 46,
   "metadata": {},
   "outputs": [],
   "source": [
    "@dataclass(order=True)\n",
    "class PlayingCard:\n",
    "  rank: str\n",
    "  suit: str\n",
    "\n",
    "  def __str__(self):\n",
    "    return f'{self.rank}{self.suit}'"
   ]
  },
  {
   "cell_type": "code",
   "execution_count": 47,
   "metadata": {},
   "outputs": [
    {
     "data": {
      "text/plain": [
       "True"
      ]
     },
     "execution_count": 47,
     "metadata": {},
     "output_type": "execute_result"
    }
   ],
   "source": [
    "ace_of_spades = PlayingCard('A', '♠')\n",
    "queen_of_hearts = PlayingCard('Q', '♡')\n",
    "ace_of_spades < queen_of_hearts\n"
   ]
  },
  {
   "cell_type": "code",
   "execution_count": 48,
   "metadata": {},
   "outputs": [
    {
     "name": "stdout",
     "output_type": "stream",
     "text": [
      "A♠\n"
     ]
    }
   ],
   "source": [
    "print(PlayingCard('A', '♠'))"
   ]
  },
  {
   "cell_type": "code",
   "execution_count": 49,
   "metadata": {},
   "outputs": [],
   "source": [
    "@dataclass\n",
    "class Deck:\n",
    "  cards: List[PlayingCard] = field(default_factory=make_french_deck)\n",
    "\n",
    "  def __repr__(self):\n",
    "    cards = ', '.join(f'{c!s}' for c in self.cards)\n",
    "    return f'{self.__class__.__name__}({cards})'"
   ]
  },
  {
   "cell_type": "code",
   "execution_count": 50,
   "metadata": {},
   "outputs": [
    {
     "data": {
      "text/plain": [
       "Deck(2♣, 3♣, 4♣, 5♣, 6♣, 7♣, 8♣, 9♣, 10♣, J♣, Q♣, K♣, A♣, 2♢, 3♢, 4♢, 5♢, 6♢, 7♢, 8♢, 9♢, 10♢, J♢, Q♢, K♢, A♢, 2♡, 3♡, 4♡, 5♡, 6♡, 7♡, 8♡, 9♡, 10♡, J♡, Q♡, K♡, A♡, 2♠, 3♠, 4♠, 5♠, 6♠, 7♠, 8♠, 9♠, 10♠, J♠, Q♠, K♠, A♠)"
      ]
     },
     "execution_count": 50,
     "metadata": {},
     "output_type": "execute_result"
    }
   ],
   "source": [
    "Deck()"
   ]
  },
  {
   "cell_type": "code",
   "execution_count": 51,
   "metadata": {},
   "outputs": [
    {
     "data": {
      "text/plain": [
       "Deck(5♠, 6♢, 10♣, 6♠, 7♣)"
      ]
     },
     "execution_count": 51,
     "metadata": {},
     "output_type": "execute_result"
    }
   ],
   "source": [
    "from random import sample\n",
    "Deck(sample(make_french_deck(), k=5))"
   ]
  }
 ],
 "metadata": {
  "kernelspec": {
   "display_name": "sklearn-env",
   "language": "python",
   "name": "python3"
  },
  "language_info": {
   "codemirror_mode": {
    "name": "ipython",
    "version": 3
   },
   "file_extension": ".py",
   "mimetype": "text/x-python",
   "name": "python",
   "nbconvert_exporter": "python",
   "pygments_lexer": "ipython3",
   "version": "3.10.8"
  },
  "orig_nbformat": 4,
  "vscode": {
   "interpreter": {
    "hash": "afca08f0a16e92f17a1108b8c4a14bb3a160c0aa49cedbc8bb2f1eb603816dc1"
   }
  }
 },
 "nbformat": 4,
 "nbformat_minor": 2
}
